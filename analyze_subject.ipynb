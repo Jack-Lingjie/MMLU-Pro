{
 "cells": [
  {
   "cell_type": "code",
   "execution_count": 6,
   "metadata": {},
   "outputs": [
    {
     "name": "stdout",
     "output_type": "stream",
     "text": [
      "\n",
      "------category level sta------\n",
      "Average accuracy 0.6039 - biology\n",
      "Average accuracy 0.3676 - business\n",
      "Average accuracy 0.3110 - chemistry\n",
      "Average accuracy 0.3902 - computer science\n",
      "Average accuracy 0.4656 - economics\n",
      "Average accuracy 0.3086 - engineering\n",
      "Average accuracy 0.4425 - health\n",
      "Average accuracy 0.3675 - history\n",
      "Average accuracy 0.2380 - law\n",
      "Average accuracy 0.3442 - math\n",
      "Average accuracy 0.4199 - other\n",
      "Average accuracy 0.4248 - philosophy\n",
      "Average accuracy 0.3387 - physics\n",
      "Average accuracy 0.5401 - psychology\n",
      "\n",
      "------average acc sta------\n",
      "Average accuracy: 0.3846\n",
      "\n",
      "数据已导出到accuracy_scores.xlsx\n"
     ]
    }
   ],
   "source": [
    "import re  \n",
    "import pandas as pd  \n",
    "\n",
    "def get_subjects_score(filename):\n",
    "    filepath = f\"eval_results/summary/{filename}.txt\"\n",
    "    with open(filepath) as f:\n",
    "        text = f.read()\n",
    "    # 给定的文本  \n",
    "    # text = \"\"\"  \n",
    "    # ------category level sta------  \n",
    "    # Average accuracy 0.5453 - biology  \n",
    "    # Average accuracy 0.3346 - business  \n",
    "    # Average accuracy 0.2447 - chemistry  \n",
    "    # Average accuracy 0.3463 - computer science  \n",
    "    # Average accuracy 0.4408 - economics  \n",
    "    # Average accuracy 0.2601 - engineering  \n",
    "    # Average accuracy 0.4046 - health  \n",
    "    # Average accuracy 0.3596 - history  \n",
    "    # Average accuracy 0.2025 - law  \n",
    "    # Average accuracy 0.3301 - math  \n",
    "    # Average accuracy 0.3788 - other  \n",
    "    # Average accuracy 0.3567 - philosophy  \n",
    "    # Average accuracy 0.3141 - physics  \n",
    "    # Average accuracy 0.5088 - psychology  \n",
    "    # ------average acc sta------  \n",
    "    # Average accuracy: 0.3472  \n",
    "    # \"\"\"  \n",
    "    print(text)\n",
    "    # 正则表达式匹配模式  \n",
    "    pattern = r'Average accuracy (\\d+\\.\\d+) - ([a-z\\s]+)'  \n",
    "    \n",
    "    # 查找所有匹配项  \n",
    "    matches = re.findall(pattern, text)  \n",
    "    \n",
    "    # 提取学科和准确率  \n",
    "    subjects = [match[1].strip() for match in matches]  \n",
    "    accuracy_scores = [float(match[0]) for match in matches] \n",
    "    # 创建DataFrame  \n",
    "    df = pd.DataFrame({  \n",
    "        'Subject': subjects,  \n",
    "        'Accuracy Score': accuracy_scores  \n",
    "    })  \n",
    "    df = df.T\n",
    "    # 导出到Excel文件  \n",
    "    df.to_csv(f'eval_results/subject_score/accuracy_scores_{filename}.csv', index=False)  \n",
    "    \n",
    "    print(\"数据已导出到accuracy_scores.xlsx\")  \n",
    "filename = \"tulu_v2_8b_base_template_dpo-CoT-all_08-15_18-03_summary\"\n",
    "get_subjects_score(filename)"
   ]
  }
 ],
 "metadata": {
  "kernelspec": {
   "display_name": "eval",
   "language": "python",
   "name": "python3"
  },
  "language_info": {
   "codemirror_mode": {
    "name": "ipython",
    "version": 3
   },
   "file_extension": ".py",
   "mimetype": "text/x-python",
   "name": "python",
   "nbconvert_exporter": "python",
   "pygments_lexer": "ipython3",
   "version": "3.10.14"
  }
 },
 "nbformat": 4,
 "nbformat_minor": 2
}
