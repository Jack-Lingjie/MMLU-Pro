{
 "cells": [
  {
   "cell_type": "code",
   "execution_count": 6,
   "metadata": {},
   "outputs": [
    {
     "name": "stdout",
     "output_type": "stream",
     "text": [
      "\n",
      "------category level sta------\n",
      "Average accuracy 0.6039 - biology\n",
      "Average accuracy 0.3676 - business\n",
      "Average accuracy 0.3110 - chemistry\n",
      "Average accuracy 0.3902 - computer science\n",
      "Average accuracy 0.4656 - economics\n",
      "Average accuracy 0.3086 - engineering\n",
      "Average accuracy 0.4425 - health\n",
      "Average accuracy 0.3675 - history\n",
      "Average accuracy 0.2380 - law\n",
      "Average accuracy 0.3442 - math\n",
      "Average accuracy 0.4199 - other\n",
      "Average accuracy 0.4248 - philosophy\n",
      "Average accuracy 0.3387 - physics\n",
      "Average accuracy 0.5401 - psychology\n",
      "\n",
      "------average acc sta------\n",
      "Average accuracy: 0.3846\n",
      "\n",
      "数据已导出到accuracy_scores.xlsx\n"
     ]
    }
   ],
   "source": [
    "import re  \n",
    "import pandas as pd  \n",
    "\n",
    "def get_subjects_score(filename):\n",
    "    filepath = f\"eval_results/summary/{filename}.txt\"\n",
    "    with open(filepath) as f:\n",
    "        text = f.read()\n",
    "    # 给定的文本  \n",
    "    # text = \"\"\"  \n",
    "    # ------category level sta------  \n",
    "    # Average accuracy 0.5453 - biology  \n",
    "    # Average accuracy 0.3346 - business  \n",
    "    # Average accuracy 0.2447 - chemistry  \n",
    "    # Average accuracy 0.3463 - computer science  \n",
    "    # Average accuracy 0.4408 - economics  \n",
    "    # Average accuracy 0.2601 - engineering  \n",
    "    # Average accuracy 0.4046 - health  \n",
    "    # Average accuracy 0.3596 - history  \n",
    "    # Average accuracy 0.2025 - law  \n",
    "    # Average accuracy 0.3301 - math  \n",
    "    # Average accuracy 0.3788 - other  \n",
    "    # Average accuracy 0.3567 - philosophy  \n",
    "    # Average accuracy 0.3141 - physics  \n",
    "    # Average accuracy 0.5088 - psychology  \n",
    "    # ------average acc sta------  \n",
    "    # Average accuracy: 0.3472  \n",
    "    # \"\"\"  \n",
    "    print(text)\n",
    "    # 正则表达式匹配模式  \n",
    "    pattern = r'Average accuracy (\\d+\\.\\d+) - ([a-z\\s]+)'  \n",
    "    \n",
    "    # 查找所有匹配项  \n",
    "    matches = re.findall(pattern, text)  \n",
    "    \n",
    "    # 提取学科和准确率  \n",
    "    subjects = [match[1].strip() for match in matches]  \n",
    "    accuracy_scores = [float(match[0]) for match in matches] \n",
    "    # 创建DataFrame  \n",
    "    df = pd.DataFrame({  \n",
    "        'Subject': subjects,  \n",
    "        'Accuracy Score': accuracy_scores  \n",
    "    })  \n",
    "    df = df.T\n",
    "    # 导出到Excel文件  \n",
    "    df.to_csv(f'eval_results/subject_score/accuracy_scores_{filename}.csv', index=False)  \n",
    "    \n",
    "    print(\"数据已导出到accuracy_scores.xlsx\")  \n",
    "filename = \"tulu_v2_8b_base_template_dpo-CoT-all_08-15_18-03_summary\"\n",
    "get_subjects_score(filename)"
   ]
  },
  {
   "cell_type": "code",
   "execution_count": 8,
   "metadata": {},
   "outputs": [
    {
     "name": "stdout",
     "output_type": "stream",
     "text": [
      "Test 数据集已保存到 ./data/mmlu_pro_test_dataset.jsonl\n",
      "Validation 数据集已保存到 ./data/mmlu_pro_val_dataset.jsonl\n"
     ]
    }
   ],
   "source": [
    "import json  \n",
    "from datasets import load_dataset  \n",
    "  \n",
    "# 假设 preprocess 是一个自定义的预处理函数  \n",
    "def preprocess(dataset):  \n",
    "    # 在这里添加您的预处理逻辑  \n",
    "    return dataset  \n",
    "  \n",
    "# 下载数据集  \n",
    "dataset = load_dataset(\"TIGER-Lab/MMLU-Pro\")  \n",
    "  \n",
    "# 获取 test 和 validation 数据集  \n",
    "test_df = dataset[\"test\"]  \n",
    "val_df = dataset[\"validation\"]  \n",
    "  \n",
    "# 对数据集进行预处理  \n",
    "test_df = preprocess(test_df)  \n",
    "val_df = preprocess(val_df)  \n",
    "  \n",
    "# 定义保存文件的路径  \n",
    "test_output_file = \"./data/mmlu_pro_test_dataset.jsonl\"  \n",
    "val_output_file = \"./data/mmlu_pro_val_dataset.jsonl\"  \n",
    "  \n",
    "# 将 test 数据集保存为 JSONL 格式  \n",
    "with open(test_output_file, 'w', encoding='utf-8') as f:  \n",
    "    for record in test_df:  \n",
    "        json_record = json.dumps(record, ensure_ascii=False)  \n",
    "        f.write(json_record + '\\n')  \n",
    "  \n",
    "# 将 validation 数据集保存为 JSONL 格式  \n",
    "with open(val_output_file, 'w', encoding='utf-8') as f:  \n",
    "    for record in val_df:  \n",
    "        json_record = json.dumps(record, ensure_ascii=False)  \n",
    "        f.write(json_record + '\\n')  \n",
    "  \n",
    "print(f\"Test 数据集已保存到 {test_output_file}\")  \n",
    "print(f\"Validation 数据集已保存到 {val_output_file}\")  \n"
   ]
  }
 ],
 "metadata": {
  "kernelspec": {
   "display_name": "eval",
   "language": "python",
   "name": "python3"
  },
  "language_info": {
   "codemirror_mode": {
    "name": "ipython",
    "version": 3
   },
   "file_extension": ".py",
   "mimetype": "text/x-python",
   "name": "python",
   "nbconvert_exporter": "python",
   "pygments_lexer": "ipython3",
   "version": "3.10.14"
  }
 },
 "nbformat": 4,
 "nbformat_minor": 2
}
